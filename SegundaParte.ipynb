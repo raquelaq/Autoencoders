{
 "cells": [
  {
   "cell_type": "code",
   "execution_count": 2,
   "metadata": {},
   "outputs": [],
   "source": [
    "import torch\n",
    "import torch.nn as nn\n",
    "import torch.optim as optim\n",
    "import torchvision\n",
    "from torch.utils.data import DataLoader\n",
    "from torchvision import datasets, transforms\n",
    "import torch.nn.functional as F\n",
    "import numpy as np\n",
    "import matplotlib.pyplot as plt"
   ]
  },
  {
   "cell_type": "markdown",
   "metadata": {},
   "source": [
    "#### Clase personalizada para redimensionar imágenes del dataset MNIST"
   ]
  },
  {
   "cell_type": "code",
   "execution_count": 38,
   "metadata": {},
   "outputs": [],
   "source": [
    "class MNISTResized(datasets.MNIST):\n",
    "    def __init__(self, *args, **kwargs):\n",
    "        super().__init__(*args, **kwargs)\n",
    "    \n",
    "    def __getitem__(self, index):\n",
    "        img, target = super().__getitem__(index)\n",
    "        img_resized = F.interpolate(img.unsqueeze(0), size=(7, 7), mode='bilinear', align_corners=False)\n",
    "        img_resized = img_resized.squeeze(0)\n",
    "        return img, img_resized, target"
   ]
  },
  {
   "cell_type": "markdown",
   "metadata": {},
   "source": [
    "#### Transformación para normalizar los datos"
   ]
  },
  {
   "cell_type": "code",
   "execution_count": 28,
   "metadata": {},
   "outputs": [],
   "source": [
    "transform = transforms.Compose( \n",
    "    [transforms.ToTensor(), \n",
    "     transforms.Normalize((0.5), (0.5)) \n",
    "    ])\n",
    "transform = transforms.ToTensor() "
   ]
  },
  {
   "cell_type": "markdown",
   "metadata": {},
   "source": [
    "#### Carga de datos"
   ]
  },
  {
   "cell_type": "code",
   "execution_count": 29,
   "metadata": {},
   "outputs": [],
   "source": [
    "mnist_train = MNISTResized(root='./data', train=True, download=True, transform=transform)\n",
    "train_loader = torch.utils.data.DataLoader(dataset=mnist_train, batch_size=64, shuffle=True)\n",
    "\n",
    "mnist_data_valid = MNISTResized(root='./data', train=False, download=True, transform=transform)\n",
    "data_loader_valid = torch.utils.data.DataLoader(dataset=mnist_data_valid, batch_size=64, shuffle=True)"
   ]
  },
  {
   "cell_type": "markdown",
   "metadata": {},
   "source": [
    "#### Definición de las clases Encoder, Decoder y Autoencoder"
   ]
  },
  {
   "cell_type": "code",
   "execution_count": 30,
   "metadata": {},
   "outputs": [],
   "source": [
    "class Encoder(nn.Module):\n",
    "    def __init__(self, latent_size):\n",
    "        super(Encoder, self).__init__()\n",
    "        self.conv1 = nn.Conv2d(1, 32, kernel_size=3, stride=1, padding=1)\n",
    "        self.bn1 = nn.Tanh()\n",
    "        self.conv2 = nn.Conv2d(32, 64, kernel_size=3, stride=1, padding=0)\n",
    "        self.bn2 = nn.BatchNorm2d(64)\n",
    "        self.conv3 = nn.Conv2d(64, 128, kernel_size=3, stride=1, padding=0)\n",
    "        self.bn3 = nn.Tanh()\n",
    "        self.fc = nn.Linear(128 * 3 * 3, latent_size)\n",
    "\n",
    "    def forward(self, x):\n",
    "        x = F.relu(self.bn1(self.conv1(x)))\n",
    "        x = F.relu(self.bn2(self.conv2(x)))\n",
    "        x = F.relu(self.bn3(self.conv3(x)))\n",
    "        x = x.view(x.size(0), -1)\n",
    "        x = self.fc(x)\n",
    "        return x\n"
   ]
  },
  {
   "cell_type": "code",
   "execution_count": 31,
   "metadata": {},
   "outputs": [],
   "source": [
    "class Decoder(nn.Module):\n",
    "    def __init__(self, latent_size):\n",
    "        super(Decoder, self).__init__()\n",
    "        self.feature_size = 64 * 3 * 3\n",
    "        self.fc = nn.Linear(latent_size, self.feature_size)\n",
    "        self.conv_trans1 = nn.ConvTranspose2d(64, 32, kernel_size=3, stride=2, padding=1, output_padding=1)  # salida: [32, 7, 7]\n",
    "        self.conv_trans2 = nn.ConvTranspose2d(32, 16, kernel_size=3, stride=2, padding=1, output_padding=1)  # salida: [16, 14, 14]\n",
    "        self.conv_trans3 = nn.ConvTranspose2d(16, 1, kernel_size=2, stride=1, padding=1)\n",
    "\n",
    "    def forward(self, x):\n",
    "        x = self.fc(x)\n",
    "        x = x.view(-1, 64, 3, 3)\n",
    "        x = F.relu(self.conv_trans1(x))\n",
    "        x = F.relu(self.conv_trans2(x))\n",
    "        x = torch.sigmoid(self.conv_trans3(x))\n",
    "        x = F.interpolate(x, size=(14, 14), mode='bilinear', align_corners=False)\n",
    "        return x\n"
   ]
  },
  {
   "cell_type": "code",
   "execution_count": 32,
   "metadata": {},
   "outputs": [],
   "source": [
    "class Autoencoder(nn.Module):\n",
    "    def __init__(self, latent_size):\n",
    "        super(Autoencoder, self).__init__()\n",
    "        self.encoder = Encoder(latent_size)\n",
    "        self.decoder = Decoder(latent_size)\n",
    "\n",
    "    def forward(self, x):\n",
    "        x = self.encoder(x)\n",
    "        x = self.decoder(x)\n",
    "        return x"
   ]
  },
  {
   "cell_type": "markdown",
   "metadata": {},
   "source": [
    "#### Configuración del modelo y entrenamiento"
   ]
  },
  {
   "cell_type": "code",
   "execution_count": 33,
   "metadata": {},
   "outputs": [],
   "source": [
    "device = torch.device(\"cuda:0\" if torch.cuda.is_available() else \"cpu\")\n",
    "latent_size = 40\n",
    "model = Autoencoder(latent_size).to(device)\n",
    "optimizer = torch.optim.Adam(model.parameters(), lr=0.001)\n",
    "scheduler = optim.lr_scheduler.StepLR(optimizer, step_size=5, gamma=0.5)\n",
    "criterion = nn.MSELoss()"
   ]
  },
  {
   "cell_type": "code",
   "execution_count": 34,
   "metadata": {},
   "outputs": [
    {
     "name": "stdout",
     "output_type": "stream",
     "text": [
      "Epoch [1/10], Loss: 0.0112\n",
      "Epoch [2/10], Loss: 0.0107\n",
      "Epoch [3/10], Loss: 0.0115\n",
      "Epoch [4/10], Loss: 0.0100\n",
      "Epoch [5/10], Loss: 0.0110\n",
      "Epoch [6/10], Loss: 0.0109\n",
      "Epoch [7/10], Loss: 0.0097\n",
      "Epoch [8/10], Loss: 0.0114\n",
      "Epoch [9/10], Loss: 0.0089\n",
      "Epoch [10/10], Loss: 0.0106\n"
     ]
    }
   ],
   "source": [
    "num_epochs = 10\n",
    "\n",
    "for epoch in range(num_epochs):\n",
    "    model.train()\n",
    "    train_loss = 0.0\n",
    "    for data in train_loader:\n",
    "        img, _ = data\n",
    "        img_rescaled = F.interpolate(img, size=(14, 14))\n",
    "        output = model(img)\n",
    "        loss = criterion(output, img_rescaled)\n",
    "        optimizer.zero_grad()\n",
    "        loss.backward()\n",
    "        optimizer.step()\n",
    "        train_loss += loss.item()\n",
    "    \n",
    "    scheduler.step()\n",
    "    train_loss = train_loss / len(train_loader)\n",
    "    print(f'Epoch [{epoch+1}/{num_epochs}], Loss: {loss.item():.4f}')"
   ]
  },
  {
   "cell_type": "markdown",
   "metadata": {},
   "source": [
    "#### Guardar el modelo"
   ]
  },
  {
   "cell_type": "code",
   "execution_count": 35,
   "metadata": {},
   "outputs": [],
   "source": [
    "torch.save(model.state_dict(), './conv_autoencoder.pth')"
   ]
  },
  {
   "cell_type": "markdown",
   "metadata": {},
   "source": [
    "#### Visualización"
   ]
  },
  {
   "cell_type": "code",
   "execution_count": 39,
   "metadata": {},
   "outputs": [
    {
     "data": {
      "image/png": "[encoded data removed]",
      "text/plain": [
       "<Figure size 1000x600 with 15 Axes>"
      ]
     },
     "metadata": {},
     "output_type": "display_data"
    }
   ],
   "source": [
    "mnist_original = datasets.MNIST(root='./data', train=False, download=True, transform=transforms.ToTensor())\n",
    "original_loader = DataLoader(dataset=mnist_original, batch_size=64, shuffle=False)\n",
    "original_images, _ = next(iter(original_loader))\n",
    "\n",
    "resized_images, _ = next(iter(data_loader_valid))\n",
    "\n",
    "n = 5  # Número de imágenes a visualizar\n",
    "with torch.no_grad():\n",
    "    model.eval()\n",
    "    resized_images = resized_images.to(device)[:n]\n",
    "    reconstructions = model(resized_images).cpu()\n",
    "\n",
    "fig, axes = plt.subplots(nrows=3, ncols=n, figsize=(10, 6))\n",
    "for i in range(n):\n",
    "    # Imagen original\n",
    "    ax = axes[0, i]\n",
    "    ax.imshow(original_images[i].squeeze(), cmap='gray')\n",
    "    ax.axis('off')\n",
    "    if i == 0:\n",
    "        ax.set_title('Original (28x28)')\n",
    "\n",
    "    # Imagen redimensionada\n",
    "    ax = axes[1, i]\n",
    "    ax.imshow(F.interpolate(resized_images.cpu(), size=(28, 28))[i].squeeze(), cmap='gray')\n",
    "    ax.axis('off')\n",
    "    if i == 0:\n",
    "        ax.set_title('Entrada (7x7)')\n",
    "\n",
    "    # Imagen reconstruida\n",
    "    ax = axes[2, i]\n",
    "    ax.imshow(reconstructions[i].squeeze(), cmap='gray')\n",
    "    ax.axis('off')\n",
    "    if i == 0:\n",
    "        ax.set_title('Salida (14x14)')\n",
    "\n",
    "plt.show()\n"
   ]
  }
 ],
 "metadata": {
  "kernelspec": {
   "display_name": "aa1",
   "language": "python",
   "name": "python3"
  },
  "language_info": {
   "codemirror_mode": {
    "name": "ipython",
    "version": 3
   },
   "file_extension": ".py",
   "mimetype": "text/x-python",
   "name": "python",
   "nbconvert_exporter": "python",
   "pygments_lexer": "ipython3",
   "version": "3.10.10"
  }
 },
 "nbformat": 4,
 "nbformat_minor": 2
}
